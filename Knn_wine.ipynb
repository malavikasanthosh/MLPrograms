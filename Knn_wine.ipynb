{
  "nbformat": 4,
  "nbformat_minor": 0,
  "metadata": {
    "colab": {
      "name": "Knn_wine.ipynb",
      "provenance": [],
      "authorship_tag": "ABX9TyNa+c6eGrlLbeW2/SNAxMEs",
      "include_colab_link": true
    },
    "kernelspec": {
      "name": "python3",
      "display_name": "Python 3"
    },
    "language_info": {
      "name": "python"
    }
  },
  "cells": [
    {
      "cell_type": "markdown",
      "metadata": {
        "id": "view-in-github",
        "colab_type": "text"
      },
      "source": [
        "<a href=\"https://colab.research.google.com/github/malavikasanthosh/MLPrograms/blob/main/Knn_wine.ipynb\" target=\"_parent\"><img src=\"https://colab.research.google.com/assets/colab-badge.svg\" alt=\"Open In Colab\"/></a>"
      ]
    },
    {
      "cell_type": "code",
      "metadata": {
        "id": "r-1iZ2vhlPiT"
      },
      "source": [
        "from sklearn.neighbors import KNeighborsClassifier\n",
        "from sklearn.model_selection import train_test_split"
      ],
      "execution_count": null,
      "outputs": []
    },
    {
      "cell_type": "code",
      "metadata": {
        "id": "k4L4VLdQmge3"
      },
      "source": [
        "from sklearn.datasets import load_wine\n",
        "wineData= load_wine()\n",
        "X = wineData.data\n",
        "y = wineData.target \n",
        "X_train,X_test,y_train,y_test=train_test_split(X,y,test_size=0.30)"
      ],
      "execution_count": null,
      "outputs": []
    },
    {
      "cell_type": "code",
      "metadata": {
        "colab": {
          "base_uri": "https://localhost:8080/"
        },
        "id": "o9av8zp5qU8f",
        "outputId": "fc21bdb6-2354-4347-c829-48fac78b9122"
      },
      "source": [
        "knn=KNeighborsClassifier(n_neighbors=6)\n",
        "knn.fit(X_train,y_train)"
      ],
      "execution_count": null,
      "outputs": [
        {
          "output_type": "execute_result",
          "data": {
            "text/plain": [
              "KNeighborsClassifier(n_neighbors=6)"
            ]
          },
          "metadata": {},
          "execution_count": 18
        }
      ]
    },
    {
      "cell_type": "code",
      "metadata": {
        "colab": {
          "base_uri": "https://localhost:8080/"
        },
        "id": "cOxYhhvgqlNb",
        "outputId": "5fb54e41-0f6b-47c9-e562-fd1c514d376a"
      },
      "source": [
        "p=(knn.predict(X_test))\n",
        "print(p)"
      ],
      "execution_count": null,
      "outputs": [
        {
          "output_type": "stream",
          "name": "stdout",
          "text": [
            "[2 0 2 1 0 1 0 1 1 2 2 1 0 1 1 0 0 2 1 1 1 1 0 1 0 1 0 1 0 0 1 0 1 2 0 1 1\n",
            " 1 2 1 2 1 0 0 1 0 1 0 2 1 1 1 2 0]\n"
          ]
        }
      ]
    },
    {
      "cell_type": "code",
      "metadata": {
        "colab": {
          "base_uri": "https://localhost:8080/"
        },
        "id": "ZN7pZOy1qcSm",
        "outputId": "7435f11a-c536-4fe7-ef49-2fe428d8f3af"
      },
      "source": [
        "from sklearn.metrics import classification_report,confusion_matrix\n",
        "\n",
        "print(confusion_matrix(y_test,p))\n",
        "print(classification_report(y_test,p))"
      ],
      "execution_count": null,
      "outputs": [
        {
          "output_type": "stream",
          "name": "stdout",
          "text": [
            "[[14  0  0]\n",
            " [ 0 18  3]\n",
            " [ 4  8  7]]\n",
            "              precision    recall  f1-score   support\n",
            "\n",
            "           0       0.78      1.00      0.88        14\n",
            "           1       0.69      0.86      0.77        21\n",
            "           2       0.70      0.37      0.48        19\n",
            "\n",
            "    accuracy                           0.72        54\n",
            "   macro avg       0.72      0.74      0.71        54\n",
            "weighted avg       0.72      0.72      0.69        54\n",
            "\n"
          ]
        }
      ]
    },
    {
      "cell_type": "code",
      "metadata": {
        "colab": {
          "base_uri": "https://localhost:8080/"
        },
        "id": "HB0kqx2HjsVR",
        "outputId": "2f9ce3b4-3cdc-4a22-9d14-b6010010d9af"
      },
      "source": [
        "print(knn.predict(X_test))\n",
        "print(knn.score(X_test,y_test))"
      ],
      "execution_count": null,
      "outputs": [
        {
          "output_type": "stream",
          "name": "stdout",
          "text": [
            "[1 1 0 1 1 1 0 1 2 0 0 0 2 0 2 2 0 0 0 0 0 1 1 0 0 0 1 1 0 0 2 1 0 1 2 0 2\n",
            " 2 0 2 1 0 1 1 0 0 0 1 0 1 1 1 0 2]\n",
            "0.7962962962962963\n"
          ]
        }
      ]
    },
    {
      "cell_type": "code",
      "metadata": {
        "colab": {
          "base_uri": "https://localhost:8080/",
          "height": 291
        },
        "id": "3D_bhC9dkQuy",
        "outputId": "9de83f8a-cafc-40e2-fc9e-f603bfd9b928"
      },
      "source": [
        "import numpy as np\n",
        "import matplotlib.pyplot as plt\n",
        "neighbors=np.arange(1,9)\n",
        "train_accuracy=np.empty(len(neighbors))\n",
        "test_accuracy=np.empty(len(neighbors))\n",
        "for i,k in enumerate(neighbors):\n",
        "  knn=KNeighborsClassifier(n_neighbors=k)\n",
        "  knn.fit(X_train,y_train)\n",
        "train_accuracy[i]=knn.score(X_train,y_train)\n",
        "test_accuracy[i]=knn.score(X_train,y_train)\n",
        "plt.plot(neighbors,test_accuracy,label='Testing dataset Accuracy')\n",
        "plt.plot(neighbors,train_accuracy,label='Training dataset Accuracy')\n",
        "plt.legend()\n",
        "plt.xlabel('n_neighbors')\n",
        "plt.ylabel('Accuracy')\n",
        "plt.show()"
      ],
      "execution_count": null,
      "outputs": [
        {
          "output_type": "display_data",
          "data": {
            "image/png": "[encoded data removed]",
            "text/plain": [
              "<Figure size 432x288 with 1 Axes>"
            ]
          },
          "metadata": {
            "needs_background": "light"
          }
        }
      ]
    }
  ]
}