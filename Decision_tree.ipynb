{
  "nbformat": 4,
  "nbformat_minor": 0,
  "metadata": {
    "colab": {
      "name": "Decision_tree.ipynb",
      "provenance": [],
      "authorship_tag": "ABX9TyMx1dj7s/iiYiGTnlcsDAJg",
      "include_colab_link": true
    },
    "kernelspec": {
      "name": "python3",
      "display_name": "Python 3"
    },
    "language_info": {
      "name": "python"
    }
  },
  "cells": [
    {
      "cell_type": "markdown",
      "metadata": {
        "id": "view-in-github",
        "colab_type": "text"
      },
      "source": [
        "<a href=\"https://colab.research.google.com/github/malavikasanthosh/MLPrograms/blob/main/Decision_tree.ipynb\" target=\"_parent\"><img src=\"https://colab.research.google.com/assets/colab-badge.svg\" alt=\"Open In Colab\"/></a>"
      ]
    },
    {
      "cell_type": "code",
      "execution_count": null,
      "metadata": {
        "id": "kX-ByKQGUud5"
      },
      "outputs": [],
      "source": [
        "import pandas as pd\n",
        "from sklearn .model_selection import train_test_split\n",
        "from sklearn.tree import DecisionTreeClassifier \n",
        "from sklearn.metrics import accuracy_score\n",
        "from sklearn.datasets import load_iris\n",
        "from sklearn import tree"
      ]
    },
    {
      "cell_type": "code",
      "source": [
        "irisData= load_iris()\n",
        "X = irisData.data\n",
        "y = irisData.target \n",
        "X_train,X_test,y_train,y_test=train_test_split(X,y,test_size=0.30)"
      ],
      "metadata": {
        "id": "L3CQQrn9WjRF"
      },
      "execution_count": null,
      "outputs": []
    },
    {
      "cell_type": "code",
      "source": [
        "d=DecisionTreeClassifier(criterion='entropy',random_state=0)\n",
        "d.fit(X_train,y_train)\n",
        "y_pred = d.predict(X_test)\n",
        "y_pred\n"
      ],
      "metadata": {
        "colab": {
          "base_uri": "https://localhost:8080/"
        },
        "id": "uxv4HHF5Wtx1",
        "outputId": "e87a245c-a865-4a39-a9fd-4df89109d2c7"
      },
      "execution_count": null,
      "outputs": [
        {
          "output_type": "execute_result",
          "data": {
            "text/plain": [
              "array([2, 1, 2, 1, 2, 0, 0, 2, 0, 1, 0, 2, 1, 1, 2, 0, 2, 2, 1, 1, 0, 0,\n",
              "       1, 1, 2, 1, 1, 1, 2, 2, 2, 0, 2, 0, 1, 0, 2, 1, 1, 0, 2, 0, 0, 0,\n",
              "       1])"
            ]
          },
          "metadata": {},
          "execution_count": 6
        }
      ]
    },
    {
      "cell_type": "code",
      "source": [
        "print(\"Train data accuracy:\",accuracy_score(y_true=y_train,y_pred=d.predict(X_train)))\n",
        "print(\"Test data accuracy:\",accuracy_score(y_true=y_test,y_pred=y_pred))"
      ],
      "metadata": {
        "colab": {
          "base_uri": "https://localhost:8080/"
        },
        "id": "gwTUjzvXX02g",
        "outputId": "5d64d6eb-74e0-4660-e005-f639583f34af"
      },
      "execution_count": null,
      "outputs": [
        {
          "output_type": "stream",
          "name": "stdout",
          "text": [
            "Train data accuracy: 1.0\n",
            "Test data accuracy: 0.9777777777777777\n"
          ]
        }
      ]
    },
    {
      "cell_type": "code",
      "source": [
        "tree.plot_tree(d)"
      ],
      "metadata": {
        "colab": {
          "base_uri": "https://localhost:8080/",
          "height": 543
        },
        "id": "WXiVUZJDaUDa",
        "outputId": "cb093973-697d-4467-9b71-591fefa2e4b6"
      },
      "execution_count": null,
      "outputs": [
        {
          "output_type": "execute_result",
          "data": {
            "text/plain": [
              "[Text(167.4, 199.32, 'X[3] <= 0.8\\nentropy = 1.584\\nsamples = 105\\nvalue = [36, 33, 36]'),\n",
              " Text(141.64615384615385, 163.07999999999998, 'entropy = 0.0\\nsamples = 36\\nvalue = [36, 0, 0]'),\n",
              " Text(193.15384615384616, 163.07999999999998, 'X[3] <= 1.75\\nentropy = 0.999\\nsamples = 69\\nvalue = [0, 33, 36]'),\n",
              " Text(103.01538461538462, 126.83999999999999, 'X[2] <= 4.95\\nentropy = 0.571\\nsamples = 37\\nvalue = [0, 32, 5]'),\n",
              " Text(51.50769230769231, 90.6, 'X[0] <= 4.95\\nentropy = 0.206\\nsamples = 31\\nvalue = [0, 30, 1]'),\n",
              " Text(25.753846153846155, 54.359999999999985, 'entropy = 0.0\\nsamples = 1\\nvalue = [0, 0, 1]'),\n",
              " Text(77.26153846153846, 54.359999999999985, 'entropy = 0.0\\nsamples = 30\\nvalue = [0, 30, 0]'),\n",
              " Text(154.52307692307693, 90.6, 'X[3] <= 1.55\\nentropy = 0.918\\nsamples = 6\\nvalue = [0, 2, 4]'),\n",
              " Text(128.76923076923077, 54.359999999999985, 'entropy = 0.0\\nsamples = 3\\nvalue = [0, 0, 3]'),\n",
              " Text(180.27692307692308, 54.359999999999985, 'X[2] <= 5.45\\nentropy = 0.918\\nsamples = 3\\nvalue = [0, 2, 1]'),\n",
              " Text(154.52307692307693, 18.119999999999976, 'entropy = 0.0\\nsamples = 2\\nvalue = [0, 2, 0]'),\n",
              " Text(206.03076923076924, 18.119999999999976, 'entropy = 0.0\\nsamples = 1\\nvalue = [0, 0, 1]'),\n",
              " Text(283.2923076923077, 126.83999999999999, 'X[2] <= 4.85\\nentropy = 0.201\\nsamples = 32\\nvalue = [0, 1, 31]'),\n",
              " Text(257.53846153846155, 90.6, 'X[1] <= 3.1\\nentropy = 1.0\\nsamples = 2\\nvalue = [0, 1, 1]'),\n",
              " Text(231.7846153846154, 54.359999999999985, 'entropy = 0.0\\nsamples = 1\\nvalue = [0, 0, 1]'),\n",
              " Text(283.2923076923077, 54.359999999999985, 'entropy = 0.0\\nsamples = 1\\nvalue = [0, 1, 0]'),\n",
              " Text(309.04615384615386, 90.6, 'entropy = 0.0\\nsamples = 30\\nvalue = [0, 0, 30]')]"
            ]
          },
          "metadata": {},
          "execution_count": 16
        },
        {
          "output_type": "display_data",
          "data": {
            "image/png": "[encoded data removed]",
            "text/plain": [
              "<Figure size 432x288 with 1 Axes>"
            ]
          },
          "metadata": {
            "needs_background": "light"
          }
        }
      ]
    }
  ]
}