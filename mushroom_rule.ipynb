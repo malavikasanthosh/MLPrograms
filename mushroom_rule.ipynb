{
  "nbformat": 4,
  "nbformat_minor": 0,
  "metadata": {
    "colab": {
      "name": "mushroom_rule.ipynb",
      "provenance": [],
      "authorship_tag": "ABX9TyNR+op/1dWlkyZRB5tNMgXN",
      "include_colab_link": true
    },
    "kernelspec": {
      "name": "python3",
      "display_name": "Python 3"
    },
    "language_info": {
      "name": "python"
    }
  },
  "cells": [
    {
      "cell_type": "markdown",
      "metadata": {
        "id": "view-in-github",
        "colab_type": "text"
      },
      "source": [
        "<a href=\"https://colab.research.google.com/github/malavikasanthosh/MLPrograms/blob/main/mushroom_rule.ipynb\" target=\"_parent\"><img src=\"https://colab.research.google.com/assets/colab-badge.svg\" alt=\"Open In Colab\"/></a>"
      ]
    },
    {
      "cell_type": "code",
      "execution_count": 8,
      "metadata": {
        "id": "DvY917ddSmvS"
      },
      "outputs": [],
      "source": [
        "import pandas as pd\n",
        "from sklearn.ensemble import RandomForestClassifier\n",
        "from sklearn.metrics import accuracy_score\n",
        "from sklearn.model_selection import train_test_split\n",
        "from sklearn.preprocessing import LabelEncoder"
      ]
    },
    {
      "cell_type": "code",
      "source": [
        "n = pd.read_csv('/content/mushrooms.csv')"
      ],
      "metadata": {
        "id": "f8v-FO7ASteN"
      },
      "execution_count": 9,
      "outputs": []
    },
    {
      "cell_type": "code",
      "source": [
        "x, y = n.iloc[:, 1:], n.iloc[:, 0]"
      ],
      "metadata": {
        "id": "2CJQYvaiS6ui"
      },
      "execution_count": 10,
      "outputs": []
    },
    {
      "cell_type": "code",
      "source": [
        "x= x.apply(LabelEncoder().fit_transform)\n",
        "y = LabelEncoder().fit_transform(y)"
      ],
      "metadata": {
        "id": "kSZt6QquS98b"
      },
      "execution_count": 11,
      "outputs": []
    },
    {
      "cell_type": "code",
      "source": [
        "x_train, x_evaluate, y_train, y_evaluate = train_test_split(x, y, test_size=0.2, random_state=42)"
      ],
      "metadata": {
        "id": "1tOKHe9WTKGb"
      },
      "execution_count": 12,
      "outputs": []
    },
    {
      "cell_type": "code",
      "source": [
        "r= RandomForestClassifier(random_state=42)\n",
        "r.fit(x_train, y_train)"
      ],
      "metadata": {
        "colab": {
          "base_uri": "https://localhost:8080/"
        },
        "id": "sfn_7aVGTRjS",
        "outputId": "f45a676d-a654-4840-ddff-fd2b393c3e60"
      },
      "execution_count": 13,
      "outputs": [
        {
          "output_type": "execute_result",
          "data": {
            "text/plain": [
              "RandomForestClassifier(random_state=42)"
            ]
          },
          "metadata": {},
          "execution_count": 13
        }
      ]
    },
    {
      "cell_type": "code",
      "source": [
        "score = accuracy_score(y_evaluate, r.predict(x_evaluate))\n",
        "print(f'Accuracy = {score}')"
      ],
      "metadata": {
        "colab": {
          "base_uri": "https://localhost:8080/"
        },
        "id": "FaXkhRv0TTqB",
        "outputId": "94bdeaf8-25f7-4074-d4e2-c50c6fdd3112"
      },
      "execution_count": 14,
      "outputs": [
        {
          "output_type": "stream",
          "name": "stdout",
          "text": [
            "Accuracy = 1.0\n"
          ]
        }
      ]
    },
    {
      "cell_type": "code",
      "source": [
        ""
      ],
      "metadata": {
        "id": "nacxCCRNVcqA"
      },
      "execution_count": null,
      "outputs": []
    }
  ]
}