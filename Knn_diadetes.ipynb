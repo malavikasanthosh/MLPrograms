{
  "nbformat": 4,
  "nbformat_minor": 0,
  "metadata": {
    "colab": {
      "name": "Knn_diadetes.ipynb",
      "provenance": [],
      "authorship_tag": "ABX9TyOqQtOm7+k7Bt+xiNIc7Rib",
      "include_colab_link": true
    },
    "kernelspec": {
      "name": "python3",
      "display_name": "Python 3"
    },
    "language_info": {
      "name": "python"
    }
  },
  "cells": [
    {
      "cell_type": "markdown",
      "metadata": {
        "id": "view-in-github",
        "colab_type": "text"
      },
      "source": [
        "<a href=\"https://colab.research.google.com/github/malavikasanthosh/MLPrograms/blob/main/Knn_diadetes.ipynb\" target=\"_parent\"><img src=\"https://colab.research.google.com/assets/colab-badge.svg\" alt=\"Open In Colab\"/></a>"
      ]
    },
    {
      "cell_type": "code",
      "metadata": {
        "id": "r-1iZ2vhlPiT"
      },
      "source": [
        "from sklearn.neighbors import KNeighborsClassifier\n",
        "from sklearn.model_selection import train_test_split"
      ],
      "execution_count": 1,
      "outputs": []
    },
    {
      "cell_type": "code",
      "metadata": {
        "id": "k4L4VLdQmge3"
      },
      "source": [
        "from sklearn.datasets import load_diabetes\n",
        "diaData= load_diabetes()\n",
        "X = diaData.data\n",
        "y = diaData.target \n",
        "X_train,X_test,y_train,y_test=train_test_split(X,y,test_size=0.30)"
      ],
      "execution_count": 2,
      "outputs": []
    },
    {
      "cell_type": "code",
      "metadata": {
        "colab": {
          "base_uri": "https://localhost:8080/"
        },
        "id": "o9av8zp5qU8f",
        "outputId": "9cc2ab10-4923-46b8-a958-aff89e964e20"
      },
      "source": [
        "knn=KNeighborsClassifier(n_neighbors=6)\n",
        "knn.fit(X_train,y_train)"
      ],
      "execution_count": 4,
      "outputs": [
        {
          "output_type": "execute_result",
          "data": {
            "text/plain": [
              "KNeighborsClassifier(n_neighbors=6)"
            ]
          },
          "metadata": {},
          "execution_count": 4
        }
      ]
    },
    {
      "cell_type": "code",
      "metadata": {
        "colab": {
          "base_uri": "https://localhost:8080/"
        },
        "id": "cOxYhhvgqlNb",
        "outputId": "f7da8f11-95b2-46a1-f6a5-10a25581152b"
      },
      "source": [
        "p=(knn.predict(X_test))\n",
        "print(p)"
      ],
      "execution_count": 5,
      "outputs": [
        {
          "output_type": "stream",
          "name": "stdout",
          "text": [
            "[ 52.  55.  67.  63.  31.  66.  52.  31. 132.  53.  53.  52.  52. 243.\n",
            " 109.  37.  25.  55.  52. 100.  65.  71.  59.  31.  67.  64.  72.  59.\n",
            "  39. 150.  91.  71.  52.  55.  91. 263. 174.  52. 100.  64.  48.  31.\n",
            "  70.  66.  39.  64. 111. 121.  53.  52.  72.  37.  37.  91.  74.  91.\n",
            "  47. 107.  47.  66. 116. 241. 150.  43. 100. 138. 111.  67. 126.  48.\n",
            "  74.  67.  69.  59. 100.  25.  25.  91. 132.  43.  59.  68.  64.  69.\n",
            " 110. 102.  71. 127.  96.  91.  25. 116.  88.  47.  52. 122. 121.  83.\n",
            " 104. 122.  85.  95.  63.  25.  48.  59.  25. 120.  60. 217. 124.  71.\n",
            " 107.  52.  91.  83.  72.  53.  85.  47.  42.  60.  48.  72.  25.  67.\n",
            "  37.  52. 144.  60. 109. 104.  91.]\n"
          ]
        }
      ]
    },
    {
      "cell_type": "code",
      "metadata": {
        "id": "HA68aIefriW-"
      },
      "source": [
        ""
      ],
      "execution_count": null,
      "outputs": []
    },
    {
      "cell_type": "code",
      "metadata": {
        "colab": {
          "base_uri": "https://localhost:8080/"
        },
        "id": "ZN7pZOy1qcSm",
        "outputId": "85b6600b-f1c5-420a-d849-315ee5108aa4"
      },
      "source": [
        "from sklearn.metrics import classification_report,confusion_matrix\n",
        "print(confusion_matrix(y_test,p))\n",
        "print(classification_report(y_test,p))"
      ],
      "execution_count": 6,
      "outputs": [
        {
          "output_type": "stream",
          "name": "stdout",
          "text": [
            "[[0 0 0 ... 0 0 0]\n",
            " [0 0 0 ... 0 0 0]\n",
            " [0 0 0 ... 0 0 0]\n",
            " ...\n",
            " [0 0 0 ... 0 0 0]\n",
            " [0 0 0 ... 0 0 0]\n",
            " [0 0 0 ... 0 0 0]]\n",
            "              precision    recall  f1-score   support\n",
            "\n",
            "        25.0       0.00      0.00      0.00       0.0\n",
            "        31.0       0.00      0.00      0.00       0.0\n",
            "        37.0       0.00      0.00      0.00       0.0\n",
            "        39.0       0.00      0.00      0.00       1.0\n",
            "        42.0       0.00      0.00      0.00       1.0\n",
            "        43.0       0.00      0.00      0.00       0.0\n",
            "        44.0       0.00      0.00      0.00       1.0\n",
            "        47.0       0.00      0.00      0.00       0.0\n",
            "        48.0       0.00      0.00      0.00       0.0\n",
            "        49.0       0.00      0.00      0.00       2.0\n",
            "        50.0       0.00      0.00      0.00       1.0\n",
            "        51.0       0.00      0.00      0.00       2.0\n",
            "        52.0       0.00      0.00      0.00       0.0\n",
            "        53.0       0.00      0.00      0.00       1.0\n",
            "        55.0       0.00      0.00      0.00       1.0\n",
            "        59.0       0.00      0.00      0.00       2.0\n",
            "        60.0       0.00      0.00      0.00       1.0\n",
            "        63.0       0.00      0.00      0.00       2.0\n",
            "        64.0       0.00      0.00      0.00       0.0\n",
            "        65.0       0.00      0.00      0.00       1.0\n",
            "        66.0       0.00      0.00      0.00       0.0\n",
            "        67.0       0.00      0.00      0.00       1.0\n",
            "        68.0       0.00      0.00      0.00       1.0\n",
            "        69.0       0.00      0.00      0.00       0.0\n",
            "        70.0       0.00      0.00      0.00       0.0\n",
            "        71.0       0.00      0.00      0.00       2.0\n",
            "        72.0       0.00      0.00      0.00       1.0\n",
            "        74.0       0.00      0.00      0.00       0.0\n",
            "        75.0       0.00      0.00      0.00       1.0\n",
            "        77.0       0.00      0.00      0.00       2.0\n",
            "        78.0       0.00      0.00      0.00       3.0\n",
            "        80.0       0.00      0.00      0.00       1.0\n",
            "        81.0       0.00      0.00      0.00       1.0\n",
            "        83.0       0.00      0.00      0.00       1.0\n",
            "        84.0       0.00      0.00      0.00       2.0\n",
            "        85.0       0.00      0.00      0.00       0.0\n",
            "        87.0       0.00      0.00      0.00       1.0\n",
            "        88.0       0.00      0.00      0.00       0.0\n",
            "        89.0       0.00      0.00      0.00       1.0\n",
            "        90.0       0.00      0.00      0.00       2.0\n",
            "        91.0       0.00      0.00      0.00       0.0\n",
            "        93.0       0.00      0.00      0.00       1.0\n",
            "        95.0       0.00      0.00      0.00       1.0\n",
            "        96.0       0.00      0.00      0.00       1.0\n",
            "        97.0       0.00      0.00      0.00       1.0\n",
            "       100.0       0.00      0.00      0.00       0.0\n",
            "       101.0       0.00      0.00      0.00       1.0\n",
            "       102.0       0.00      0.00      0.00       1.0\n",
            "       104.0       0.00      0.00      0.00       2.0\n",
            "       107.0       0.00      0.00      0.00       0.0\n",
            "       109.0       0.00      0.00      0.00       0.0\n",
            "       110.0       0.00      0.00      0.00       0.0\n",
            "       111.0       0.00      0.00      0.00       0.0\n",
            "       113.0       0.00      0.00      0.00       1.0\n",
            "       114.0       0.00      0.00      0.00       1.0\n",
            "       115.0       0.00      0.00      0.00       1.0\n",
            "       116.0       0.00      0.00      0.00       0.0\n",
            "       118.0       0.00      0.00      0.00       1.0\n",
            "       120.0       0.00      0.00      0.00       0.0\n",
            "       121.0       0.00      0.00      0.00       0.0\n",
            "       122.0       0.00      0.00      0.00       0.0\n",
            "       124.0       0.00      0.00      0.00       1.0\n",
            "       126.0       0.00      0.00      0.00       0.0\n",
            "       127.0       0.00      0.00      0.00       0.0\n",
            "       132.0       0.00      0.00      0.00       0.0\n",
            "       134.0       0.00      0.00      0.00       1.0\n",
            "       136.0       0.00      0.00      0.00       1.0\n",
            "       137.0       0.00      0.00      0.00       1.0\n",
            "       138.0       0.00      0.00      0.00       0.0\n",
            "       140.0       0.00      0.00      0.00       1.0\n",
            "       141.0       0.00      0.00      0.00       1.0\n",
            "       142.0       0.00      0.00      0.00       1.0\n",
            "       143.0       0.00      0.00      0.00       1.0\n",
            "       144.0       0.00      0.00      0.00       0.0\n",
            "       147.0       0.00      0.00      0.00       1.0\n",
            "       148.0       0.00      0.00      0.00       1.0\n",
            "       150.0       0.00      0.00      0.00       0.0\n",
            "       151.0       0.00      0.00      0.00       1.0\n",
            "       155.0       0.00      0.00      0.00       1.0\n",
            "       160.0       0.00      0.00      0.00       2.0\n",
            "       162.0       0.00      0.00      0.00       1.0\n",
            "       163.0       0.00      0.00      0.00       1.0\n",
            "       164.0       0.00      0.00      0.00       1.0\n",
            "       168.0       0.00      0.00      0.00       1.0\n",
            "       172.0       0.00      0.00      0.00       2.0\n",
            "       174.0       0.00      0.00      0.00       1.0\n",
            "       175.0       0.00      0.00      0.00       1.0\n",
            "       178.0       0.00      0.00      0.00       4.0\n",
            "       180.0       0.00      0.00      0.00       1.0\n",
            "       181.0       0.00      0.00      0.00       1.0\n",
            "       182.0       0.00      0.00      0.00       3.0\n",
            "       184.0       0.00      0.00      0.00       1.0\n",
            "       185.0       0.00      0.00      0.00       1.0\n",
            "       186.0       0.00      0.00      0.00       1.0\n",
            "       190.0       0.00      0.00      0.00       2.0\n",
            "       192.0       0.00      0.00      0.00       1.0\n",
            "       196.0       0.00      0.00      0.00       1.0\n",
            "       197.0       0.00      0.00      0.00       1.0\n",
            "       198.0       0.00      0.00      0.00       1.0\n",
            "       199.0       0.00      0.00      0.00       1.0\n",
            "       200.0       0.00      0.00      0.00       3.0\n",
            "       201.0       0.00      0.00      0.00       1.0\n",
            "       210.0       0.00      0.00      0.00       1.0\n",
            "       214.0       0.00      0.00      0.00       1.0\n",
            "       217.0       0.00      0.00      0.00       0.0\n",
            "       220.0       0.00      0.00      0.00       1.0\n",
            "       225.0       0.00      0.00      0.00       1.0\n",
            "       229.0       0.00      0.00      0.00       1.0\n",
            "       230.0       0.00      0.00      0.00       2.0\n",
            "       232.0       0.00      0.00      0.00       1.0\n",
            "       233.0       0.00      0.00      0.00       2.0\n",
            "       235.0       0.00      0.00      0.00       1.0\n",
            "       236.0       0.00      0.00      0.00       1.0\n",
            "       237.0       0.00      0.00      0.00       1.0\n",
            "       241.0       0.00      0.00      0.00       0.0\n",
            "       242.0       0.00      0.00      0.00       1.0\n",
            "       243.0       0.00      0.00      0.00       1.0\n",
            "       246.0       0.00      0.00      0.00       1.0\n",
            "       248.0       0.00      0.00      0.00       1.0\n",
            "       257.0       0.00      0.00      0.00       2.0\n",
            "       258.0       0.00      0.00      0.00       2.0\n",
            "       259.0       0.00      0.00      0.00       2.0\n",
            "       261.0       0.00      0.00      0.00       1.0\n",
            "       262.0       0.00      0.00      0.00       1.0\n",
            "       263.0       0.00      0.00      0.00       0.0\n",
            "       265.0       0.00      0.00      0.00       1.0\n",
            "       270.0       0.00      0.00      0.00       1.0\n",
            "       273.0       0.00      0.00      0.00       1.0\n",
            "       275.0       0.00      0.00      0.00       1.0\n",
            "       277.0       0.00      0.00      0.00       1.0\n",
            "       281.0       0.00      0.00      0.00       1.0\n",
            "       283.0       0.00      0.00      0.00       1.0\n",
            "       288.0       0.00      0.00      0.00       1.0\n",
            "       292.0       0.00      0.00      0.00       1.0\n",
            "       297.0       0.00      0.00      0.00       1.0\n",
            "       302.0       0.00      0.00      0.00       1.0\n",
            "       303.0       0.00      0.00      0.00       1.0\n",
            "       310.0       0.00      0.00      0.00       2.0\n",
            "       321.0       0.00      0.00      0.00       1.0\n",
            "\n",
            "    accuracy                           0.00     133.0\n",
            "   macro avg       0.00      0.00      0.00     133.0\n",
            "weighted avg       0.00      0.00      0.00     133.0\n",
            "\n"
          ]
        },
        {
          "output_type": "stream",
          "name": "stderr",
          "text": [
            "/usr/local/lib/python3.7/dist-packages/sklearn/metrics/_classification.py:1308: UndefinedMetricWarning: Precision and F-score are ill-defined and being set to 0.0 in labels with no predicted samples. Use `zero_division` parameter to control this behavior.\n",
            "  _warn_prf(average, modifier, msg_start, len(result))\n",
            "/usr/local/lib/python3.7/dist-packages/sklearn/metrics/_classification.py:1308: UndefinedMetricWarning: Recall and F-score are ill-defined and being set to 0.0 in labels with no true samples. Use `zero_division` parameter to control this behavior.\n",
            "  _warn_prf(average, modifier, msg_start, len(result))\n",
            "/usr/local/lib/python3.7/dist-packages/sklearn/metrics/_classification.py:1308: UndefinedMetricWarning: Precision and F-score are ill-defined and being set to 0.0 in labels with no predicted samples. Use `zero_division` parameter to control this behavior.\n",
            "  _warn_prf(average, modifier, msg_start, len(result))\n",
            "/usr/local/lib/python3.7/dist-packages/sklearn/metrics/_classification.py:1308: UndefinedMetricWarning: Recall and F-score are ill-defined and being set to 0.0 in labels with no true samples. Use `zero_division` parameter to control this behavior.\n",
            "  _warn_prf(average, modifier, msg_start, len(result))\n",
            "/usr/local/lib/python3.7/dist-packages/sklearn/metrics/_classification.py:1308: UndefinedMetricWarning: Precision and F-score are ill-defined and being set to 0.0 in labels with no predicted samples. Use `zero_division` parameter to control this behavior.\n",
            "  _warn_prf(average, modifier, msg_start, len(result))\n",
            "/usr/local/lib/python3.7/dist-packages/sklearn/metrics/_classification.py:1308: UndefinedMetricWarning: Recall and F-score are ill-defined and being set to 0.0 in labels with no true samples. Use `zero_division` parameter to control this behavior.\n",
            "  _warn_prf(average, modifier, msg_start, len(result))\n"
          ]
        }
      ]
    }
  ]
}